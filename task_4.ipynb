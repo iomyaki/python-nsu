{
  "nbformat": 4,
  "nbformat_minor": 0,
  "metadata": {
    "colab": {
      "provenance": []
    },
    "kernelspec": {
      "name": "python3",
      "display_name": "Python 3"
    },
    "language_info": {
      "name": "python"
    }
  },
  "cells": [
    {
      "cell_type": "markdown",
      "source": [
        "Задача 4.1\n",
        "\n",
        "Дан файл из нескольких строк, в каждой строке содержащий информацию о составе нуклеотидов в последовательности (прикрепляю «4.1_exception.txt» для примера). Необходимо:\n",
        "\n",
        "1)      Создать функцию, принимающую заданный состав нуклеотидов (храните в любом виде, как вам удобно) и возвращающую случайно сгенерированную последовательность, соответствующую данному составу.\n",
        "\n",
        "2)      Считать данные из входного файла, сгенерировать по ним последовательности и вывести в другой файл на названием 4.1_result.txt.\n",
        "\n",
        "3)      Необходимо учесть, что входные данные могут быть некорректны (см. прикрепленный пример). В таком случае в файл нужно вывести не последовательность, а сообщение «Входные данные некорректны». Т.е., если на вход подавалось 5 наборов, то в файл будет выведено 5 строчек."
      ],
      "metadata": {
        "id": "yq7Z2dJrEJq4"
      }
    },
    {
      "cell_type": "code",
      "source": [
        "# если вы работаете через google colab, этот блок кода необходим, чтобы считывать\n",
        "# входные данные, которые у вас должны быть на вашем гугл диске\n",
        "\n",
        "from google.colab import drive\n",
        "\n",
        "drive.mount('/content/gdrive') # далее используется полный путь, включая /content/gdrive/My drive/4.1_exception.txt, чтобы читать файл"
      ],
      "metadata": {
        "id": "U6Dv5pnl_cur"
      },
      "execution_count": null,
      "outputs": []
    },
    {
      "cell_type": "markdown",
      "source": [
        "Задача 4.2\n",
        "\n",
        "Дан файл с нуклеотидными последовательностями в формате FASTA (прикрепляю «4.2_humanEnsembl.txt» для примера).\n",
        "\n",
        "Про формат FASTA можете почитать тут:\n",
        "\n",
        "https://ru.wikipedia.org/wiki/FASTA\n",
        "\n",
        "В задаче необходимо:\n",
        "\n",
        "1)      Создать функцию, принимающую на вход последовательность и рамку считывания и возвращающую ответ, транслируема ли (True) или нет (False) данная последовательность в данной рамке. Достаточно рассмотреть рамки 0,+1,+2.\n",
        "\n",
        "2)      Вывести в аналогичный входному файл те же данные, добавив к заголовку каждой последовательности эту информацию (т.е. в конец, новым параметром)\n",
        "\n",
        "Пример:\n",
        "\n",
        "```\n",
        ">ENSG00000003137|CYP26B1|ENST00000001146|protein_coding|72129238|72148038|-1|+2\n",
        "AGGCAATTTTTTTCCTCCCTCTCTCCGCTCCCCTCGCAGCCTCCACTCCCTTTCCCTTGG\n",
        "CCCCTTCCTCCTTCTCTGTTTCGGCTGGAGGTGCCAGGACCCCCGGCCGCAGCCTCCCCT\n",
        "CCCCCGCCGCTCCGGTCCCCTCCCGTCGGGCCCTCCCCTCCCCCGCCGCGGCCGGCACAG\n",
        "CCAATCCCCCGAGCGGCCGCCAACATGCTCTTTGAGGGCTTGGATCTGGTGTCGGCGCTG\n",
        "GCCACCCTCGCCGCGTGCCTGGTGTCCGTGACGCTGCTGCTGGCCGTGTCGCAGCAGCTG\n",
        "TGGCAGCTGCGCTGGGCCGCCACTCGCGACAAGAGCTGCAAGCTGCCCATCCCCAAGGGA\n",
        "...\n",
        "```\n",
        "\n",
        "\n",
        "3)      Реализовать механизм трансляции. Выводить в другой выходной файл с названием (4.2_humanEnsembl.translation.txt) идентификатор последовательности и следующей строчкой транслируемую последовательность. Сделать это для всех рамок считывания и для всех последовательностей.\n",
        "\n",
        "Т.е. выхожной файл будет выглядеть следующим образом:\n",
        "\n",
        "\n",
        "```\n",
        ">ENSG00000003249_0\n",
        "MEEPQSDLSIELPLSQETFSDLWKLLPPNNVLSTLPSSDSIEELFLSENVTGWLEDSGGALQGVAAAAASTAEDPVTETPAPVASAPATPWPLSS\n",
        "\n",
        ">ENSG00000003249_1\n",
        "MSVPSYKTFQGDYGFRLGFLHSGTAKSVTCTYSPSLNKLFCQLAKTCPVQLWVNSTPPPGTRVRAMAIYKKLQYMTE\n",
        "\n",
        "...\n",
        "```\n",
        "\n",
        "\n",
        "\n",
        "И т.д. где последнее значение в идентификаторе - открытая рамка считывания.\n",
        "\n",
        "Механизм трансляции основан на втором пункте задачи. Если последовательность транслируема, то считываете последовательность от старт- до стоп-кодона, берете по тройке нуклеотидов, переводите в аминокислотный код (словарь добавлен в ниже).\n",
        "\n",
        "Т.е. если у нас последовательность\n",
        "\n",
        "```\n",
        "GTCATGAAAAAGCTTTAGAAG\n",
        "```\n",
        "\n",
        "то выводится должно\n",
        "\n",
        "\n",
        "```\n",
        "MKKL\n",
        "```\n",
        "\n",
        "включая метионин.\n",
        "\n",
        "Если даны 10 последовательностей и в трех рамках считывания (0, +1, +2) они транслируемы, то на выходе вы будете иметь файл с 30-ю аминокислотными последователньостями.\n",
        "* В одной рамке считывания выводите самую первую последовательность, а другие, если они будут попадаться, выводить не нужно. Т.е. как только нашли транслируемую область и перевели ее в аминокислотную последовательность, переходите на следующую последовательность\\рамку считывания."
      ],
      "metadata": {
        "id": "MKOt9C7oE4go"
      }
    },
    {
      "cell_type": "code",
      "source": [
        "table = {\n",
        "        'ATA':'I', 'ATC':'I', 'ATT':'I', 'ATG':'M',\n",
        "        'ACA':'T', 'ACC':'T', 'ACG':'T', 'ACT':'T',\n",
        "        'AAC':'N', 'AAT':'N', 'AAA':'K', 'AAG':'K',\n",
        "        'AGC':'S', 'AGT':'S', 'AGA':'R', 'AGG':'R',\n",
        "        'CTA':'L', 'CTC':'L', 'CTG':'L', 'CTT':'L',\n",
        "        'CCA':'P', 'CCC':'P', 'CCG':'P', 'CCT':'P',\n",
        "        'CAC':'H', 'CAT':'H', 'CAA':'Q', 'CAG':'Q',\n",
        "        'CGA':'R', 'CGC':'R', 'CGG':'R', 'CGT':'R',\n",
        "        'GTA':'V', 'GTC':'V', 'GTG':'V', 'GTT':'V',\n",
        "        'GCA':'A', 'GCC':'A', 'GCG':'A', 'GCT':'A',\n",
        "        'GAC':'D', 'GAT':'D', 'GAA':'E', 'GAG':'E',\n",
        "        'GGA':'G', 'GGC':'G', 'GGG':'G', 'GGT':'G',\n",
        "        'TCA':'S', 'TCC':'S', 'TCG':'S', 'TCT':'S',\n",
        "        'TTC':'F', 'TTT':'F', 'TTA':'L', 'TTG':'L',\n",
        "        'TAC':'Y', 'TAT':'Y', 'TAA':'_', 'TAG':'_',\n",
        "        'TGC':'C', 'TGT':'C', 'TGA':'_', 'TGG':'W'}"
      ],
      "metadata": {
        "id": "OwoZaAS7Eql7"
      },
      "execution_count": null,
      "outputs": []
    }
  ]
}