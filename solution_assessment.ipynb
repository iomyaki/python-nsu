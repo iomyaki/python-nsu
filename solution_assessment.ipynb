{
  "cells": [
    {
      "cell_type": "code",
      "execution_count": 1,
      "id": "560e47c4",
      "metadata": {
        "scrolled": true,
        "colab": {
          "base_uri": "https://localhost:8080/"
        },
        "id": "560e47c4",
        "outputId": "a8173130-0e2f-40f8-b648-f53cd1f34a30"
      },
      "outputs": [
        {
          "output_type": "stream",
          "name": "stdout",
          "text": [
            "Mounted at /content/gdrive\n"
          ]
        }
      ],
      "source": [
        "from google.colab import drive\n",
        "\n",
        "drive.mount('/content/gdrive')"
      ]
    },
    {
      "cell_type": "code",
      "source": [
        "path = '/content/gdrive/My Drive/'"
      ],
      "metadata": {
        "id": "YLVPoxy8h2yy"
      },
      "id": "YLVPoxy8h2yy",
      "execution_count": 5,
      "outputs": []
    },
    {
      "cell_type": "code",
      "source": [
        "# libraries\n",
        "\n",
        "import pandas as pd\n",
        "import numpy as np\n",
        "from math import log"
      ],
      "metadata": {
        "id": "d01X2ie-h5Wl"
      },
      "id": "d01X2ie-h5Wl",
      "execution_count": 28,
      "outputs": []
    },
    {
      "cell_type": "code",
      "source": [
        "# Task #1\n",
        "\n",
        "def count_determinant(st1, st2):\n",
        "  global matrices\n",
        "  global keys\n",
        "\n",
        "  number_row = []\n",
        "  for nuc1, nuc2 in zip(st1, st2):\n",
        "    if nuc1 == nuc2:\n",
        "      number_row.append(2)\n",
        "    else:\n",
        "      number_row.append(1)\n",
        "\n",
        "  matrix = [number_row]\n",
        "  for _ in range(len(number_row) - 1):\n",
        "    number_row = number_row[-1:] + number_row[:-1]\n",
        "    matrix.append(number_row)\n",
        "\n",
        "  det = np.linalg.det(matrix)\n",
        "  matrices[det] = matrix\n",
        "  keys.append(det)\n",
        "\n",
        "\n",
        "seq1 = 'ATGAATTGGCAATGCA'\n",
        "seq2 = 'ATAGGAATGCAATGAC'\n",
        "\n",
        "matrices = dict()\n",
        "keys = []\n",
        "\n",
        "count_determinant(seq1, seq2)\n",
        "for i in range(1, len(seq1) - 1):\n",
        "  count_determinant(seq1[i:], seq2[:-i])\n",
        "\n",
        "max_det = max(matrices)\n",
        "corresponding_matrix = matrices[max_det]\n",
        "\n",
        "corresponding_matrix"
      ],
      "metadata": {
        "id": "BHzFaP3qh7NX"
      },
      "id": "BHzFaP3qh7NX",
      "execution_count": null,
      "outputs": []
    },
    {
      "cell_type": "code",
      "source": [
        "# Task #2\n",
        "\n",
        "def open_and_read(file):\n",
        "  seqs = dict()\n",
        "\n",
        "  with open(file, 'r') as fin:\n",
        "      for line in fin:\n",
        "        if '>' in line:\n",
        "          ident = line[1:].rstrip()\n",
        "        else:\n",
        "          seqs[ident] = line.rstrip()\n",
        "\n",
        "  return seqs\n",
        "\n",
        "\n",
        "def count_gc_content(sequence):\n",
        "  g_num = sequence.count('G')\n",
        "  c_num = sequence.count('C')\n",
        "\n",
        "  return (g_num + c_num) / len(sequence)\n",
        "\n",
        "\n",
        "def create_naive_consensus(MSA):\n",
        "  bases = ('A', 'T', 'G', 'C')\n",
        "\n",
        "  num_seqs = len(MSA)\n",
        "  seq_len = len(MSA[0])\n",
        "  alignment = list(zip(*MSA))\n",
        "\n",
        "  output = ''\n",
        "  for pos in range(seq_len):\n",
        "    pos_nucleotides = ''.join(list(alignment[pos]))\n",
        "    frequencies = {base: pos_nucleotides.count(base) / num_seqs for base in bases}\n",
        "\n",
        "    commonest_nucleotide = max(zip(frequencies.values(), frequencies.keys()))[1]\n",
        "    output += commonest_nucleotide\n",
        "\n",
        "  return output\n",
        "\n",
        "\n",
        "def get_Kimura_dist(sequence, reference):\n",
        "  L = len(reference)\n",
        "  try:\n",
        "    transitions = (('A', 'G'), ('G', 'A'), ('T', 'C'), ('C', 'T'))\n",
        "    transversions = (('A', 'T'), ('A', 'C'), ('G', 'C'), ('G', 'T'), ('T', 'A'), ('T', 'G'), ('C', 'A'), ('C', 'G'))\n",
        "    P = sum(1 for nuc_1, nuc_2 in zip(sequence, reference) if (nuc_1, nuc_2) in transitions) / L\n",
        "    Q = sum(1 for nuc_1, nuc_2 in zip(sequence, reference) if (nuc_1, nuc_2) in transversions) / L\n",
        "    return -1 / 2 * log(1 - 2 * P - Q) - 1 / 4 * log(1 - 2 * Q)\n",
        "  except ValueError:\n",
        "    return None\n",
        "\n",
        "\n",
        "data = path + '2.sequences.var2.txt'\n",
        "dict_form = open_and_read(data)\n",
        "\n",
        "df = pd.DataFrame.from_dict(dict_form, orient='index')\n",
        "\n",
        "gc_contents = []\n",
        "for _, row in df.iterrows():\n",
        "  gc_contents.append(count_gc_content(row[0]))\n",
        "\n",
        "df['GC-content'] = gc_contents\n",
        "\n",
        "consensus = create_naive_consensus(tuple(dict_form.values()))\n",
        "\n",
        "kimura_dists = []\n",
        "for _, row in df.iterrows():\n",
        "  kimura_dists.append(get_Kimura_dist(row[0], consensus))\n",
        "\n",
        "df['K2P'] = kimura_dists\n",
        "\n",
        "df"
      ],
      "metadata": {
        "id": "oPedPdGkopTH"
      },
      "id": "oPedPdGkopTH",
      "execution_count": null,
      "outputs": []
    },
    {
      "cell_type": "code",
      "source": [
        "# Task #3\n",
        "\n",
        "intervals = pd.read_csv(path + '3.var2.intervals.tsv', sep='\\t')\n",
        "variants = pd.read_csv(path + '3.var2.variants.tsv', sep='\\t')\n",
        "\n",
        "for index, row in intervals.iterrows():\n",
        "  if row[1] > row[2]:\n",
        "    intervals.loc[index, 'POSITION_START'], intervals.loc[index, 'POSITION_END'] = intervals.loc[index, 'POSITION_END'], intervals.loc[index, 'POSITION_START']\n",
        "\n",
        "idx = pd.IntervalIndex.from_arrays(intervals['POSITION_START'], intervals['POSITION_END'], closed='both')\n",
        "\n",
        "# very interesting but time's up"
      ],
      "metadata": {
        "id": "zm6GeTGWuzHX"
      },
      "id": "zm6GeTGWuzHX",
      "execution_count": null,
      "outputs": []
    }
  ],
  "metadata": {
    "kernelspec": {
      "display_name": "Python 3 (ipykernel)",
      "language": "python",
      "name": "python3"
    },
    "language_info": {
      "codemirror_mode": {
        "name": "ipython",
        "version": 3
      },
      "file_extension": ".py",
      "mimetype": "text/x-python",
      "name": "python",
      "nbconvert_exporter": "python",
      "pygments_lexer": "ipython3",
      "version": "3.11.4"
    },
    "colab": {
      "provenance": []
    }
  },
  "nbformat": 4,
  "nbformat_minor": 5
}