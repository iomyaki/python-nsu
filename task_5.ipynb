{
 "cells": [
  {
   "cell_type": "markdown",
   "metadata": {
    "id": "HWe-fCnzG8d9"
   },
   "source": [
    "Задача 5.1\n",
    "\n",
    "Дан файл (5.1_MSA.txt) с нуклеотидными последовательностями равной длины (множественное выравнивание). Отобразить частоты встречаемости нуклеотидов в множественном выравнивании с помощью графика bar. Выглядеть должно следующим образом:\n",
    "\n",
    "![image.png](data:image/png;base64,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)\n",
    "\n",
    "где каждый цвет представляет собой определенный нуклеотид (посмотреть, как делается легенда и гистограммы с накоплением).\n",
    "\n",
    "Найти для входных последовательностей консенсусную последовательность и отобразить долю нуклеотидов в ней с помощью графика pie.\n",
    "\n",
    "Пример:\n",
    "\n",
    "```\n",
    "\n",
    "ATTCG\n",
    "TTTGC\n",
    "ACTAC\n",
    "ACTTC\n",
    "____\n",
    "\n",
    "AYTNС - консенсус\n",
    "```\n",
    "\n"
   ]
  },
  {
   "cell_type": "markdown",
   "metadata": {
    "id": "W5qu2Lhqf4LK"
   },
   "source": [
    "Задача 5.2\n",
    "\n",
    "Дан файл (5.2_MSA.txt) с множественным выравниванием 100 последовательностей, каждая из которых состоит из 100 нуклеотидов.\n",
    "\n",
    "Необходимо:\n",
    "\n",
    "1. Перевести множественное выравнивание в численный формат.\n",
    "\n",
    "Т.е. необходимо закодировать каждый нуклеотид как цифру.\n",
    "\n",
    "Код следующий: А - 1, T - 2, G - 3, C - 4. Далее рассматриваем это перекодированной множественной выравнивание как матрицу чисел.\n",
    "\n",
    "2. Развернуть матрицу так, чтобы последняя строка стала первой, а первая - последней. После матрицу транспонировать;\n",
    "\n",
    "3. Реализовать механизм перемножения матриц (умножить обычную матрицу на развернутую и транспонированную матрицу).\n",
    "\n",
    "Так необходимо сделать для нескольких матриц:"
   ]
  },
  {
   "cell_type": "markdown",
   "metadata": {
    "id": "y8vYSCSih34h"
   },
   "source": [
    "Например, вам нужно перемножить матрицы 4 на 4.\n",
    "\n",
    "Исходное множественное выравнивание будет таким:\n",
    "```\n",
    "A T G A\n",
    "G C A A\n",
    "A G T A\n",
    "A G G G\n",
    "```\n",
    "Далее проведем кодировку:\n",
    "```\n",
    "1 2 3 1\n",
    "3 4 1 1\n",
    "1 3 2 1\n",
    "1 3 3 3\n",
    "```\n",
    "Тогда развернутая матрица будет такой:\n",
    "```\n",
    "1 3 3 3\n",
    "1 3 2 1\n",
    "3 4 1 1\n",
    "1 2 3 1\n",
    "```\n",
    "Далее транспонируем матрицу:\n",
    "```\n",
    "1 1 3 1\n",
    "3 3 4 2\n",
    "3 2 1 3\n",
    "3 2 1 1\n",
    "```\n",
    "\n",
    "\n",
    "\n"
   ]
  },
  {
   "cell_type": "markdown",
   "metadata": {
    "id": "jQViu_ILixyS"
   },
   "source": [
    "Далее формальная задача:\n",
    "\n",
    "Сравнить среднее время умножения матриц в \"ручном\" формате и с помощью библиотеки numpy.\n",
    "Необходимо перемножать матрицы по 100 раз на каждой размерности от размерности 2 на 2 до размерности 100 на 100. На каждом значении размерности считать среднее время выполнения задачи. Полученные значения \"запоминать\".\n",
    "\n",
    "Построить графики (два графика) для ручного умножения и numpy, на оси абсцисс которых размерность матрицы, на оси ординат – среднее время выполнения одного умножения, а также по оси ординат отмечено стандартное отклонение.\n",
    "\n",
    "Также вывести первую и последнюю последовательности перекодированного и транспонированного множественного выравнивания. Если смотреть на пример выше, то выводить в принте две строки:\n",
    "\n",
    "\n",
    "```\n",
    "Первая строка: 1 1 3 1\n",
    "Последняя строка: 3 2 1 1\n",
    "```\n",
    "\n"
   ]
  }
 ],
 "metadata": {
  "colab": {
   "provenance": []
  },
  "kernelspec": {
   "display_name": "Python 3 (ipykernel)",
   "language": "python",
   "name": "python3"
  },
  "language_info": {
   "codemirror_mode": {
    "name": "ipython",
    "version": 3
   },
   "file_extension": ".py",
   "mimetype": "text/x-python",
   "name": "python",
   "nbconvert_exporter": "python",
   "pygments_lexer": "ipython3",
   "version": "3.11.4"
  }
 },
 "nbformat": 4,
 "nbformat_minor": 1
}
